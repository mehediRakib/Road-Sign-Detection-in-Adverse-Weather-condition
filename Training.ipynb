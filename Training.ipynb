{
 "cells": [
  {
   "cell_type": "code",
   "execution_count": 1,
   "id": "22f3caa8-25f4-4ba2-b9c0-3b14da5cf7f5",
   "metadata": {},
   "outputs": [],
   "source": [
    "import numpy as np\n",
    "import pandas as pd\n",
    "import matplotlib.pyplot as plt\n",
    "import cv2\n",
    "import tensorflow as tf\n",
    "from PIL import Image\n",
    "import os\n",
    "from sklearn.model_selection import train_test_split\n",
    "from keras.utils import to_categorical\n",
    "from keras.models import Sequential, load_model\n",
    "from keras.layers import Conv2D, MaxPool2D, Dense, Flatten, Dropout"
   ]
  },
  {
   "cell_type": "code",
   "execution_count": 2,
   "id": "c79cfcef-8336-4068-a1e7-92742a2748fa",
   "metadata": {},
   "outputs": [],
   "source": [
    "data = []\n",
    "labels = []\n",
    "classes = 43\n",
    "cur_path = os.getcwd()"
   ]
  },
  {
   "cell_type": "code",
   "execution_count": 3,
   "id": "ccf694ce-f3d0-4aca-9258-436514347f28",
   "metadata": {},
   "outputs": [
    {
     "data": {
      "text/plain": [
       "'C:\\\\Users\\\\dell\\\\Desktop\\\\Traffic sign classification'"
      ]
     },
     "execution_count": 3,
     "metadata": {},
     "output_type": "execute_result"
    }
   ],
   "source": [
    "cur_path"
   ]
  },
  {
   "cell_type": "code",
   "execution_count": null,
   "id": "5361a9a9-766c-4f83-8395-2e18409cef5a",
   "metadata": {},
   "outputs": [],
   "source": []
  },
  {
   "cell_type": "code",
   "execution_count": 3,
   "id": "770aa908-b53d-4e57-8b28-f6d4ee245294",
   "metadata": {},
   "outputs": [
    {
     "name": "stdout",
     "output_type": "stream",
     "text": [
      "Loading images and labels...\n"
     ]
    }
   ],
   "source": [
    "print(\"Loading images and labels...\")\n",
    "\n",
    "# Retrieving the images and their labels\n",
    "for i in range(classes):\n",
    "    path = os.path.join(cur_path, 'train', str(i))\n",
    "    images = os.listdir(path)\n",
    "\n",
    "    for a in images:\n",
    "        try:\n",
    "            image = Image.open(path + '\\\\' + a)\n",
    "            image = image.resize((30, 30))\n",
    "            image = np.array(image)\n",
    "            data.append(image)\n",
    "            labels.append(i)\n",
    "        except Exception as e:\n",
    "            print(f\"Error loading image {a}: {e}\")"
   ]
  },
  {
   "cell_type": "code",
   "execution_count": 4,
   "id": "82b2066b-aee1-4d7f-85d2-01d9c0b95fd2",
   "metadata": {},
   "outputs": [
    {
     "name": "stdout",
     "output_type": "stream",
     "text": [
      "Loaded 39209 images with shape (30, 30, 3)\n"
     ]
    }
   ],
   "source": [
    "data = np.array(data)\n",
    "labels = np.array(labels)\n",
    "\n",
    "print(f\"Loaded {data.shape[0]} images with shape {data.shape[1:]}\")\n"
   ]
  },
  {
   "cell_type": "code",
   "execution_count": null,
   "id": "605ce7f7-4c3b-40d3-9c13-7e2b3f484836",
   "metadata": {},
   "outputs": [],
   "source": []
  },
  {
   "cell_type": "code",
   "execution_count": 5,
   "id": "a5295830-9176-403c-9652-1bd3002f23c6",
   "metadata": {},
   "outputs": [
    {
     "data": {
      "text/plain": [
       "(39209, 30, 30, 3)"
      ]
     },
     "execution_count": 5,
     "metadata": {},
     "output_type": "execute_result"
    }
   ],
   "source": [
    "data.shape"
   ]
  },
  {
   "cell_type": "code",
   "execution_count": 6,
   "id": "0091a539-823b-4368-b745-a3de7f56f08b",
   "metadata": {},
   "outputs": [
    {
     "data": {
      "text/plain": [
       "(39209,)"
      ]
     },
     "execution_count": 6,
     "metadata": {},
     "output_type": "execute_result"
    }
   ],
   "source": [
    "labels.shape"
   ]
  },
  {
   "cell_type": "code",
   "execution_count": 29,
   "id": "7a98de66-4eda-4e01-be6a-ec95888f91d9",
   "metadata": {},
   "outputs": [
    {
     "name": "stdout",
     "output_type": "stream",
     "text": [
      "Training data shape: (31367, 30, 30, 3), Test data shape: (7842, 30, 30, 3)\n"
     ]
    }
   ],
   "source": [
    "X_train, X_test, y_train, y_test = train_test_split(data, labels, test_size=0.2, random_state=42)\n",
    "\n",
    "print(f\"Training data shape: {X_train.shape}, Test data shape: {X_test.shape}\")"
   ]
  },
  {
   "cell_type": "code",
   "execution_count": 25,
   "id": "9ccf31ae-554d-42d9-8056-9bb8f278935c",
   "metadata": {},
   "outputs": [],
   "source": [
    "X_train=X_train/255.0\n",
    "X_test=X_test/255.0"
   ]
  },
  {
   "cell_type": "code",
   "execution_count": 30,
   "id": "c8389626-d70a-4b3f-bd61-68ac58f02aa7",
   "metadata": {},
   "outputs": [
    {
     "data": {
      "text/plain": [
       "array([[[[ 41,  42,  38],\n",
       "         [ 54,  51,  43],\n",
       "         [ 61,  56,  51],\n",
       "         ...,\n",
       "         [ 38,  41,  41],\n",
       "         [ 38,  42,  42],\n",
       "         [ 38,  42,  42]],\n",
       "\n",
       "        [[ 49,  55,  41],\n",
       "         [ 62,  72,  53],\n",
       "         [ 52,  60,  48],\n",
       "         ...,\n",
       "         [ 34,  39,  39],\n",
       "         [ 34,  39,  38],\n",
       "         [ 35,  38,  37]],\n",
       "\n",
       "        [[ 73,  81,  53],\n",
       "         [ 82,  96,  67],\n",
       "         [ 76,  90,  67],\n",
       "         ...,\n",
       "         [ 35,  39,  41],\n",
       "         [ 34,  38,  39],\n",
       "         [ 38,  40,  41]],\n",
       "\n",
       "        ...,\n",
       "\n",
       "        [[120, 123, 118],\n",
       "         [ 74,  83,  88],\n",
       "         [ 62,  73,  70],\n",
       "         ...,\n",
       "         [105, 117, 104],\n",
       "         [101, 115, 103],\n",
       "         [117, 127, 113]],\n",
       "\n",
       "        [[121, 124, 114],\n",
       "         [ 92,  98,  99],\n",
       "         [ 82,  90,  81],\n",
       "         ...,\n",
       "         [ 99, 109,  93],\n",
       "         [104, 115, 101],\n",
       "         [111, 124, 114]],\n",
       "\n",
       "        [[121, 116,  98],\n",
       "         [119, 114, 101],\n",
       "         [108, 108,  86],\n",
       "         ...,\n",
       "         [ 94, 105,  89],\n",
       "         [100, 108,  94],\n",
       "         [ 98, 107, 100]]],\n",
       "\n",
       "\n",
       "       [[[ 16,  14,  15],\n",
       "         [ 16,  14,  16],\n",
       "         [ 15,  15,  17],\n",
       "         ...,\n",
       "         [ 15,  14,  15],\n",
       "         [ 13,  13,  15],\n",
       "         [ 14,  14,  15]],\n",
       "\n",
       "        [[ 20,  16,  16],\n",
       "         [ 16,  14,  15],\n",
       "         [ 15,  13,  16],\n",
       "         ...,\n",
       "         [ 15,  15,  16],\n",
       "         [ 14,  13,  15],\n",
       "         [ 14,  12,  15]],\n",
       "\n",
       "        [[ 18,  16,  16],\n",
       "         [ 15,  13,  14],\n",
       "         [ 13,  13,  16],\n",
       "         ...,\n",
       "         [ 14,  14,  15],\n",
       "         [ 15,  15,  15],\n",
       "         [ 14,  13,  16]],\n",
       "\n",
       "        ...,\n",
       "\n",
       "        [[ 13,  13,  15],\n",
       "         [ 12,  13,  14],\n",
       "         [ 13,  12,  14],\n",
       "         ...,\n",
       "         [ 13,  11,  13],\n",
       "         [ 12,  10,  14],\n",
       "         [ 13,  11,  13]],\n",
       "\n",
       "        [[ 12,  12,  14],\n",
       "         [ 13,  13,  15],\n",
       "         [ 14,  13,  15],\n",
       "         ...,\n",
       "         [ 12,  11,  12],\n",
       "         [ 12,  10,  13],\n",
       "         [ 13,  11,  13]],\n",
       "\n",
       "        [[ 12,  12,  14],\n",
       "         [ 13,  13,  15],\n",
       "         [ 15,  13,  15],\n",
       "         ...,\n",
       "         [ 10,   9,  12],\n",
       "         [ 12,  11,  13],\n",
       "         [ 12,  11,  14]]],\n",
       "\n",
       "\n",
       "       [[[ 85,  78,  82],\n",
       "         [ 84,  89,  97],\n",
       "         [ 91, 103, 139],\n",
       "         ...,\n",
       "         [239, 241, 250],\n",
       "         [222, 202, 223],\n",
       "         [144, 136, 164]],\n",
       "\n",
       "        [[ 82,  87,  86],\n",
       "         [ 82,  87,  83],\n",
       "         [ 91,  95, 113],\n",
       "         ...,\n",
       "         [160, 176, 224],\n",
       "         [154, 149, 187],\n",
       "         [105, 115, 137]],\n",
       "\n",
       "        [[ 94,  99,  99],\n",
       "         [ 81,  83,  79],\n",
       "         [ 88,  90,  97],\n",
       "         ...,\n",
       "         [141, 166, 210],\n",
       "         [141, 155, 182],\n",
       "         [101, 122, 126]],\n",
       "\n",
       "        ...,\n",
       "\n",
       "        [[ 85,  80,  87],\n",
       "         [ 79,  75,  82],\n",
       "         [ 77,  72,  72],\n",
       "         ...,\n",
       "         [ 60,  77, 105],\n",
       "         [ 79,  95, 126],\n",
       "         [ 87, 106, 153]],\n",
       "\n",
       "        [[ 85,  84, 100],\n",
       "         [ 68,  67,  84],\n",
       "         [ 69,  67,  62],\n",
       "         ...,\n",
       "         [ 79,  76,  84],\n",
       "         [ 98, 108, 119],\n",
       "         [131, 144, 174]],\n",
       "\n",
       "        [[ 68,  71,  88],\n",
       "         [ 76,  78, 104],\n",
       "         [ 84,  84,  84],\n",
       "         ...,\n",
       "         [ 56,  37,  34],\n",
       "         [ 51,  46,  44],\n",
       "         [109, 109, 118]]],\n",
       "\n",
       "\n",
       "       ...,\n",
       "\n",
       "\n",
       "       [[[ 61,  65,  82],\n",
       "         [ 33,  31,  30],\n",
       "         [ 35,  40,  44],\n",
       "         ...,\n",
       "         [ 18,  18,  16],\n",
       "         [ 17,  18,  15],\n",
       "         [ 20,  21,  18]],\n",
       "\n",
       "        [[ 82,  92,  93],\n",
       "         [ 41,  38,  39],\n",
       "         [ 43,  44,  48],\n",
       "         ...,\n",
       "         [ 16,  18,  15],\n",
       "         [ 17,  18,  15],\n",
       "         [ 24,  25,  20]],\n",
       "\n",
       "        [[136, 161, 168],\n",
       "         [ 64,  61,  64],\n",
       "         [ 31,  36,  37],\n",
       "         ...,\n",
       "         [ 17,  17,  15],\n",
       "         [ 19,  20,  16],\n",
       "         [ 26,  28,  26]],\n",
       "\n",
       "        ...,\n",
       "\n",
       "        [[ 49,  48,  33],\n",
       "         [ 50,  53,  40],\n",
       "         [ 51,  60,  56],\n",
       "         ...,\n",
       "         [ 96, 109, 125],\n",
       "         [ 93, 107, 123],\n",
       "         [ 88, 101, 120]],\n",
       "\n",
       "        [[ 62,  62,  52],\n",
       "         [ 61,  74,  74],\n",
       "         [ 86, 109, 122],\n",
       "         ...,\n",
       "         [ 95, 104, 116],\n",
       "         [ 95, 106, 118],\n",
       "         [ 90, 101, 115]],\n",
       "\n",
       "        [[ 60,  77,  82],\n",
       "         [ 90, 116, 132],\n",
       "         [111, 135, 155],\n",
       "         ...,\n",
       "         [ 62,  71,  84],\n",
       "         [ 70,  76,  88],\n",
       "         [ 70,  76,  89]]],\n",
       "\n",
       "\n",
       "       [[[ 58,  55,  54],\n",
       "         [ 52,  52,  49],\n",
       "         [ 53,  53,  49],\n",
       "         ...,\n",
       "         [ 86,  79,  72],\n",
       "         [ 61,  58,  49],\n",
       "         [ 78,  72,  61]],\n",
       "\n",
       "        [[ 54,  54,  51],\n",
       "         [ 50,  50,  47],\n",
       "         [ 52,  50,  46],\n",
       "         ...,\n",
       "         [ 84,  78,  69],\n",
       "         [ 61,  61,  52],\n",
       "         [ 62,  60,  51]],\n",
       "\n",
       "        [[ 56,  55,  51],\n",
       "         [ 54,  53,  51],\n",
       "         [ 54,  52,  51],\n",
       "         ...,\n",
       "         [ 93,  86,  68],\n",
       "         [ 75,  71,  58],\n",
       "         [ 70,  66,  55]],\n",
       "\n",
       "        ...,\n",
       "\n",
       "        [[ 77,  69,  59],\n",
       "         [ 64,  57,  50],\n",
       "         [ 59,  56,  50],\n",
       "         ...,\n",
       "         [ 52,  52,  47],\n",
       "         [ 52,  53,  48],\n",
       "         [ 56,  56,  47]],\n",
       "\n",
       "        [[ 82,  71,  57],\n",
       "         [ 69,  63,  52],\n",
       "         [ 61,  58,  53],\n",
       "         ...,\n",
       "         [ 50,  49,  46],\n",
       "         [ 54,  54,  50],\n",
       "         [ 54,  54,  48]],\n",
       "\n",
       "        [[ 83,  73,  57],\n",
       "         [ 76,  70,  60],\n",
       "         [ 65,  61,  57],\n",
       "         ...,\n",
       "         [ 50,  49,  46],\n",
       "         [ 50,  51,  47],\n",
       "         [ 54,  54,  48]]],\n",
       "\n",
       "\n",
       "       [[[ 98,  76,  58],\n",
       "         [103,  78,  62],\n",
       "         [109,  83,  65],\n",
       "         ...,\n",
       "         [176, 180, 192],\n",
       "         [179, 187, 197],\n",
       "         [178, 187, 193]],\n",
       "\n",
       "        [[ 99,  77,  60],\n",
       "         [105,  83,  64],\n",
       "         [103,  79,  60],\n",
       "         ...,\n",
       "         [176, 176, 188],\n",
       "         [179, 184, 193],\n",
       "         [178, 183, 189]],\n",
       "\n",
       "        [[103,  80,  65],\n",
       "         [104,  82,  66],\n",
       "         [ 98,  76,  59],\n",
       "         ...,\n",
       "         [164, 160, 164],\n",
       "         [171, 172, 177],\n",
       "         [177, 178, 184]],\n",
       "\n",
       "        ...,\n",
       "\n",
       "        [[ 65,  54,  50],\n",
       "         [ 63,  51,  46],\n",
       "         [ 63,  51,  45],\n",
       "         ...,\n",
       "         [ 57,  46,  44],\n",
       "         [ 41,  42,  39],\n",
       "         [ 36,  32,  29]],\n",
       "\n",
       "        [[ 63,  53,  48],\n",
       "         [ 59,  48,  43],\n",
       "         [ 59,  47,  42],\n",
       "         ...,\n",
       "         [ 72,  65,  60],\n",
       "         [ 52,  56,  52],\n",
       "         [ 38,  37,  37]],\n",
       "\n",
       "        [[ 60,  50,  46],\n",
       "         [ 56,  45,  41],\n",
       "         [ 59,  47,  41],\n",
       "         ...,\n",
       "         [ 62,  58,  53],\n",
       "         [ 50,  55,  52],\n",
       "         [ 43,  44,  45]]]], dtype=uint8)"
      ]
     },
     "execution_count": 30,
     "metadata": {},
     "output_type": "execute_result"
    }
   ],
   "source": [
    "X_train"
   ]
  },
  {
   "cell_type": "code",
   "execution_count": 31,
   "id": "758d6230-1d20-4a58-b34a-4792462acfb4",
   "metadata": {},
   "outputs": [
    {
     "data": {
      "text/plain": [
       "array([26, 15, 13, ...,  8,  7, 20])"
      ]
     },
     "execution_count": 31,
     "metadata": {},
     "output_type": "execute_result"
    }
   ],
   "source": [
    "y_test"
   ]
  },
  {
   "cell_type": "code",
   "execution_count": null,
   "id": "552f8fa2-b31e-4333-96d1-8c4d0fdfc659",
   "metadata": {},
   "outputs": [],
   "source": []
  },
  {
   "cell_type": "code",
   "execution_count": 27,
   "id": "043a9777-a9e4-48c9-8a31-65c6f38f856b",
   "metadata": {},
   "outputs": [
    {
     "data": {
      "text/plain": [
       "(31367, 30, 30, 3)"
      ]
     },
     "execution_count": 27,
     "metadata": {},
     "output_type": "execute_result"
    }
   ],
   "source": [
    "X_train.shape"
   ]
  },
  {
   "cell_type": "code",
   "execution_count": 32,
   "id": "cab9017a-dcaa-4d7a-a5ca-81bc08d5eb1f",
   "metadata": {},
   "outputs": [],
   "source": [
    "y_train = to_categorical(y_train, 43)\n",
    "y_test = to_categorical(y_test, 43)"
   ]
  },
  {
   "cell_type": "code",
   "execution_count": null,
   "id": "931fa048-e677-4563-b082-087ea0f48364",
   "metadata": {},
   "outputs": [],
   "source": [
    "y_train"
   ]
  },
  {
   "cell_type": "code",
   "execution_count": 33,
   "id": "3e424696-86f1-4f61-b398-11381ccdf270",
   "metadata": {},
   "outputs": [
    {
     "data": {
      "text/plain": [
       "(30, 30, 3)"
      ]
     },
     "execution_count": 33,
     "metadata": {},
     "output_type": "execute_result"
    }
   ],
   "source": [
    "X_train.shape[1:]"
   ]
  },
  {
   "cell_type": "code",
   "execution_count": 34,
   "id": "99998260-ffe0-451c-a4c1-582aa8c428d3",
   "metadata": {},
   "outputs": [
    {
     "name": "stdout",
     "output_type": "stream",
     "text": [
      "Building model...\n"
     ]
    }
   ],
   "source": [
    "print(\"Building model...\")\n",
    "model = Sequential()\n",
    "model.add(Conv2D(filters=32, kernel_size=(5,5), activation='relu', input_shape=X_train.shape[1:]))\n",
    "model.add(Conv2D(filters=32, kernel_size=(5,5), activation='relu'))\n",
    "model.add(MaxPool2D(pool_size=(2, 2)))\n",
    "model.add(Dropout(rate=0.25))\n",
    "model.add(Conv2D(filters=64, kernel_size=(3, 3), activation='relu'))\n",
    "model.add(Conv2D(filters=64, kernel_size=(3, 3), activation='relu'))\n",
    "model.add(MaxPool2D(pool_size=(2, 2)))\n",
    "model.add(Dropout(rate=0.25))\n",
    "model.add(Flatten())\n",
    "model.add(Dense(256, activation='relu'))\n",
    "model.add(Dropout(rate=0.5))\n",
    "model.add(Dense(43, activation='softmax'))"
   ]
  },
  {
   "cell_type": "code",
   "execution_count": 35,
   "id": "b6303ab3-325d-49e5-8d9c-02e550de7d2b",
   "metadata": {},
   "outputs": [
    {
     "name": "stdout",
     "output_type": "stream",
     "text": [
      "Compiling model...\n"
     ]
    }
   ],
   "source": [
    "print(\"Compiling model...\")\n",
    "model.compile(loss='categorical_crossentropy', optimizer='adam', metrics=['accuracy'])"
   ]
  },
  {
   "cell_type": "code",
   "execution_count": 36,
   "id": "d57cadcc-f0b1-4880-af24-556a4d250f8f",
   "metadata": {
    "scrolled": true
   },
   "outputs": [
    {
     "name": "stdout",
     "output_type": "stream",
     "text": [
      "Starting model training for 20 epochs...\n",
      "Epoch 1/20\n",
      "\u001b[1m747/747\u001b[0m \u001b[32m━━━━━━━━━━━━━━━━━━━━\u001b[0m\u001b[37m\u001b[0m \u001b[1m75s\u001b[0m 93ms/step - accuracy: 0.3093 - loss: 3.3421 - val_accuracy: 0.9119 - val_loss: 0.3614\n",
      "Epoch 2/20\n",
      "\u001b[1m747/747\u001b[0m \u001b[32m━━━━━━━━━━━━━━━━━━━━\u001b[0m\u001b[37m\u001b[0m \u001b[1m162s\u001b[0m 199ms/step - accuracy: 0.8219 - loss: 0.6347 - val_accuracy: 0.9527 - val_loss: 0.1824\n",
      "Epoch 3/20\n",
      "\u001b[1m747/747\u001b[0m \u001b[32m━━━━━━━━━━━━━━━━━━━━\u001b[0m\u001b[37m\u001b[0m \u001b[1m69s\u001b[0m 93ms/step - accuracy: 0.9330 - loss: 0.2409 - val_accuracy: 0.9811 - val_loss: 0.0687\n",
      "Epoch 6/20\n",
      "\u001b[1m747/747\u001b[0m \u001b[32m━━━━━━━━━━━━━━━━━━━━\u001b[0m\u001b[37m\u001b[0m \u001b[1m83s\u001b[0m 93ms/step - accuracy: 0.9454 - loss: 0.1874 - val_accuracy: 0.9852 - val_loss: 0.0541\n",
      "Epoch 7/20\n",
      "\u001b[1m747/747\u001b[0m \u001b[32m━━━━━━━━━━━━━━━━━━━━\u001b[0m\u001b[37m\u001b[0m \u001b[1m71s\u001b[0m 78ms/step - accuracy: 0.9508 - loss: 0.1835 - val_accuracy: 0.9791 - val_loss: 0.0826\n",
      "Epoch 8/20\n",
      "\u001b[1m747/747\u001b[0m \u001b[32m━━━━━━━━━━━━━━━━━━━━\u001b[0m\u001b[37m\u001b[0m \u001b[1m103s\u001b[0m 137ms/step - accuracy: 0.9559 - loss: 0.1714 - val_accuracy: 0.9816 - val_loss: 0.0676\n",
      "Epoch 10/20\n",
      "\u001b[1m747/747\u001b[0m \u001b[32m━━━━━━━━━━━━━━━━━━━━\u001b[0m\u001b[37m\u001b[0m \u001b[1m92s\u001b[0m 123ms/step - accuracy: 0.9487 - loss: 0.2032 - val_accuracy: 0.9852 - val_loss: 0.0520\n",
      "Epoch 11/20\n",
      "\u001b[1m747/747\u001b[0m \u001b[32m━━━━━━━━━━━━━━━━━━━━\u001b[0m\u001b[37m\u001b[0m \u001b[1m158s\u001b[0m 143ms/step - accuracy: 0.9528 - loss: 0.1900 - val_accuracy: 0.9906 - val_loss: 0.0395\n",
      "Epoch 12/20\n",
      "\u001b[1m747/747\u001b[0m \u001b[32m━━━━━━━━━━━━━━━━━━━━\u001b[0m\u001b[37m\u001b[0m \u001b[1m138s\u001b[0m 137ms/step - accuracy: 0.9512 - loss: 0.1940 - val_accuracy: 0.9898 - val_loss: 0.0412\n",
      "Epoch 13/20\n",
      "\u001b[1m747/747\u001b[0m \u001b[32m━━━━━━━━━━━━━━━━━━━━\u001b[0m\u001b[37m\u001b[0m \u001b[1m100s\u001b[0m 134ms/step - accuracy: 0.9584 - loss: 0.1736 - val_accuracy: 0.9898 - val_loss: 0.0396\n",
      "Epoch 14/20\n",
      "\u001b[1m747/747\u001b[0m \u001b[32m━━━━━━━━━━━━━━━━━━━━\u001b[0m\u001b[37m\u001b[0m \u001b[1m139s\u001b[0m 129ms/step - accuracy: 0.9536 - loss: 0.1926 - val_accuracy: 0.9899 - val_loss: 0.0400\n",
      "Epoch 15/20\n",
      "\u001b[1m747/747\u001b[0m \u001b[32m━━━━━━━━━━━━━━━━━━━━\u001b[0m\u001b[37m\u001b[0m \u001b[1m154s\u001b[0m 144ms/step - accuracy: 0.9582 - loss: 0.1715 - val_accuracy: 0.9906 - val_loss: 0.0381\n",
      "Epoch 16/20\n",
      "\u001b[1m747/747\u001b[0m \u001b[32m━━━━━━━━━━━━━━━━━━━━\u001b[0m\u001b[37m\u001b[0m \u001b[1m155s\u001b[0m 160ms/step - accuracy: 0.9503 - loss: 0.2115 - val_accuracy: 0.9880 - val_loss: 0.0483\n",
      "Epoch 17/20\n",
      "\u001b[1m747/747\u001b[0m \u001b[32m━━━━━━━━━━━━━━━━━━━━\u001b[0m\u001b[37m\u001b[0m \u001b[1m148s\u001b[0m 168ms/step - accuracy: 0.9541 - loss: 0.1815 - val_accuracy: 0.9916 - val_loss: 0.0359\n",
      "Epoch 18/20\n",
      "\u001b[1m747/747\u001b[0m \u001b[32m━━━━━━━━━━━━━━━━━━━━\u001b[0m\u001b[37m\u001b[0m \u001b[1m118s\u001b[0m 135ms/step - accuracy: 0.9624 - loss: 0.1651 - val_accuracy: 0.9913 - val_loss: 0.0285\n",
      "Epoch 19/20\n",
      "\u001b[1m747/747\u001b[0m \u001b[32m━━━━━━━━━━━━━━━━━━━━\u001b[0m\u001b[37m\u001b[0m \u001b[1m144s\u001b[0m 137ms/step - accuracy: 0.9631 - loss: 0.1584 - val_accuracy: 0.9887 - val_loss: 0.0468\n",
      "Epoch 20/20\n",
      "\u001b[1m747/747\u001b[0m \u001b[32m━━━━━━━━━━━━━━━━━━━━\u001b[0m\u001b[37m\u001b[0m \u001b[1m145s\u001b[0m 141ms/step - accuracy: 0.9604 - loss: 0.1678 - val_accuracy: 0.9848 - val_loss: 0.0591\n"
     ]
    }
   ],
   "source": [
    "epochs = 20\n",
    "print(f\"Starting model training for {epochs} epochs...\")\n",
    "history = model.fit(X_train, y_train, batch_size=42, epochs=epochs, validation_data=(X_test, y_test))"
   ]
  },
  {
   "cell_type": "code",
   "execution_count": 41,
   "id": "b27c0469-ab79-4e18-b7e4-d57dcc717d03",
   "metadata": {},
   "outputs": [
    {
     "ename": "AttributeError",
     "evalue": "'History' object has no attribute 'score'",
     "output_type": "error",
     "traceback": [
      "\u001b[1;31m---------------------------------------------------------------------------\u001b[0m",
      "\u001b[1;31mAttributeError\u001b[0m                            Traceback (most recent call last)",
      "Cell \u001b[1;32mIn[41], line 1\u001b[0m\n\u001b[1;32m----> 1\u001b[0m history\u001b[38;5;241m.\u001b[39mscore(X_test,y_test)\n",
      "\u001b[1;31mAttributeError\u001b[0m: 'History' object has no attribute 'score'"
     ]
    }
   ],
   "source": [
    "history.score(X_test,y_test)"
   ]
  },
  {
   "cell_type": "code",
   "execution_count": 42,
   "id": "343b4d0b-a48e-4d7d-bf12-d2b7369eb8b9",
   "metadata": {},
   "outputs": [
    {
     "name": "stdout",
     "output_type": "stream",
     "text": [
      "\u001b[1m246/246\u001b[0m \u001b[32m━━━━━━━━━━━━━━━━━━━━\u001b[0m\u001b[37m\u001b[0m \u001b[1m6s\u001b[0m 23ms/step - accuracy: 0.9852 - loss: 0.0590\n",
      "Test Loss: 0.0543\n",
      "Test Accuracy: 0.9869\n"
     ]
    }
   ],
   "source": [
    "loss, accuracy = model.evaluate(X_test, y_test)\n",
    "print(f\"Test Loss: {loss:.4f}\")\n",
    "print(f\"Test Accuracy: {accuracy:.4f}\")"
   ]
  },
  {
   "cell_type": "code",
   "execution_count": 17,
   "id": "e62c9a79-5d21-4247-a415-2d7b047f8434",
   "metadata": {},
   "outputs": [
    {
     "name": "stderr",
     "output_type": "stream",
     "text": [
      "WARNING:absl:You are saving your model as an HDF5 file via `model.save()` or `keras.saving.save_model(model)`. This file format is considered legacy. We recommend using instead the native Keras format, e.g. `model.save('my_model.keras')` or `keras.saving.save_model(model, 'my_model.keras')`. \n"
     ]
    },
    {
     "name": "stdout",
     "output_type": "stream",
     "text": [
      "Model saved as 'my_model.h5'.\n"
     ]
    }
   ],
   "source": [
    "model.save(\"my_model.h5\")\n",
    "print(\"Model saved as 'my_model.h5'.\")"
   ]
  },
  {
   "cell_type": "code",
   "execution_count": 64,
   "id": "02ffaa7d-878d-43f6-a337-53846d103a86",
   "metadata": {},
   "outputs": [
    {
     "name": "stdout",
     "output_type": "stream",
     "text": [
      "Plotting accuracy and loss graphs...\n"
     ]
    },
    {
     "data": {
      "image/png": "[encoded data removed]",
      "text/plain": [
       "<Figure size 640x480 with 1 Axes>"
      ]
     },
     "metadata": {},
     "output_type": "display_data"
    },
    {
     "data": {
      "image/png": "[encoded data removed]",
      "text/plain": [
       "<Figure size 640x480 with 1 Axes>"
      ]
     },
     "metadata": {},
     "output_type": "display_data"
    }
   ],
   "source": [
    "print(\"Plotting accuracy and loss graphs...\")\n",
    "plt.figure(0)\n",
    "plt.plot(history.history['accuracy'], label='training accuracy')\n",
    "plt.plot(history.history['val_accuracy'], label='val accuracy')\n",
    "plt.title('Accuracy')\n",
    "plt.xlabel('epochs')\n",
    "plt.ylabel('accuracy')\n",
    "plt.legend()\n",
    "plt.savefig('accuracy_graph.png') \n",
    "plt.show()\n",
    "\n",
    "plt.figure(1)\n",
    "plt.plot(history.history['loss'], label='training loss')\n",
    "plt.plot(history.history['val_loss'], label='val loss')\n",
    "plt.title('Loss')\n",
    "plt.xlabel('epochs')\n",
    "plt.ylabel('loss')\n",
    "plt.legend()\n",
    "plt.savefig('loss_graph.png') \n",
    "plt.show()"
   ]
  },
  {
   "cell_type": "code",
   "execution_count": 65,
   "id": "7d414354-b059-4667-a180-9a311ec98ceb",
   "metadata": {},
   "outputs": [
    {
     "name": "stdout",
     "output_type": "stream",
     "text": [
      "Testing accuracy on test dataset...\n"
     ]
    }
   ],
   "source": [
    "# Testing accuracy on the test dataset\n",
    "print(\"Testing accuracy on test dataset...\")\n",
    "y_test = pd.read_csv('Test.csv')\n",
    "\n",
    "labels = y_test[\"ClassId\"].values\n",
    "imgs = y_test[\"Path\"].values\n",
    "\n",
    "data = []\n",
    "\n",
    "for img in imgs:\n",
    "    image = Image.open(img)\n",
    "    image = image.resize((30, 30))\n",
    "    data.append(np.array(image))\n",
    "\n",
    "X_test = np.array(data)"
   ]
  },
  {
   "cell_type": "code",
   "execution_count": 20,
   "id": "56d57df3-0ae7-4a53-bda7-d6558919458a",
   "metadata": {},
   "outputs": [
    {
     "name": "stdout",
     "output_type": "stream",
     "text": [
      "\u001b[1m395/395\u001b[0m \u001b[32m━━━━━━━━━━━━━━━━━━━━\u001b[0m\u001b[37m\u001b[0m \u001b[1m10s\u001b[0m 24ms/step\n"
     ]
    }
   ],
   "source": [
    "pred = model.predict(X_test)\n",
    "pred = np.argmax(pred, axis=1)"
   ]
  },
  {
   "cell_type": "code",
   "execution_count": 66,
   "id": "2fb455dd-4974-41ce-930a-ac9b405f6bf6",
   "metadata": {},
   "outputs": [
    {
     "name": "stdout",
     "output_type": "stream",
     "text": [
      "Test accuracy: 0.9533650039588282\n"
     ]
    }
   ],
   "source": [
    "from sklearn.metrics import accuracy_score\n",
    "accuracy = accuracy_score(labels, pred)\n",
    "print(f\"Test accuracy: {accuracy}\")"
   ]
  },
  {
   "cell_type": "code",
   "execution_count": 10,
   "id": "81837016-6e0d-4477-bc0c-4e534a38af95",
   "metadata": {},
   "outputs": [
    {
     "data": {
      "image/png": "[encoded data removed]",
      "text/plain": [
       "<Figure size 1000x500 with 6 Axes>"
      ]
     },
     "metadata": {},
     "output_type": "display_data"
    }
   ],
   "source": [
    "import os\n",
    "import cv2\n",
    "import numpy as np\n",
    "import matplotlib.pyplot as plt\n",
    "from PIL import Image\n",
    "\n",
    "# Define the path to the dataset (Modify it according to your dataset location)\n",
    "cur_path = os.getcwd()\n",
    "class_label = \"0\"  # Choose a specific class folder for visualization\n",
    "path = os.path.join(cur_path, 'train', class_label)\n",
    "\n",
    "# Load some images from the dataset\n",
    "images = os.listdir(path)[:3]  # Select first 5 images for display\n",
    "\n",
    "# Create figure for visualization\n",
    "plt.figure(figsize=(10, 5))\n",
    "\n",
    "for i, img_name in enumerate(images):\n",
    "    try:\n",
    "        # Load original image\n",
    "        img_path = os.path.join(path, img_name)\n",
    "        original_img = Image.open(img_path)\n",
    "        \n",
    "        # Resize image\n",
    "        resized_img = original_img.resize((32, 32))\n",
    "\n",
    "        # Convert images to numpy arrays for display\n",
    "        original_img = np.array(original_img)\n",
    "        resized_img = np.array(resized_img)\n",
    "\n",
    "        # Display original image\n",
    "        plt.subplot(2, 5, i + 1)  # 2 rows, 5 columns\n",
    "        plt.imshow(original_img)\n",
    "        plt.title(\"Original\")\n",
    "        plt.axis(\"off\")\n",
    "\n",
    "        # Display resized image\n",
    "        plt.subplot(2, 5, i + 6)  # Second row\n",
    "        plt.imshow(resized_img)\n",
    "        plt.title(\"Resized (32x32)\")\n",
    "        plt.axis(\"off\")\n",
    "\n",
    "    except Exception as e:\n",
    "        print(f\"Error loading image {img_name}: {e}\")\n",
    "\n",
    "plt.tight_layout()\n",
    "plt.show()\n"
   ]
  },
  {
   "cell_type": "code",
   "execution_count": 11,
   "id": "7735163f-116d-4ded-a656-5ba7a9f15a5f",
   "metadata": {},
   "outputs": [
    {
     "data": {
      "text/plain": [
       "<Figure size 640x480 with 0 Axes>"
      ]
     },
     "metadata": {},
     "output_type": "display_data"
    }
   ],
   "source": [
    "plt.savefig(\"image_comparison.png\", dpi=300)  # Saves the full grid as an image\n",
    "plt.show()\n"
   ]
  },
  {
   "cell_type": "code",
   "execution_count": 14,
   "id": "a4906d6c-d7f2-425f-a13b-e3b641f0a2fc",
   "metadata": {},
   "outputs": [
    {
     "data": {
      "image/png": "[encoded data removed]",
      "text/plain": [
       "<Figure size 1000x600 with 6 Axes>"
      ]
     },
     "metadata": {},
     "output_type": "display_data"
    }
   ],
   "source": [
    "import os\n",
    "import numpy as np\n",
    "import matplotlib.pyplot as plt\n",
    "from PIL import Image\n",
    "\n",
    "# Define the dataset path\n",
    "cur_path = os.getcwd()  # Change this to your dataset path\n",
    "sample_images = 3  # Number of images to display\n",
    "\n",
    "plt.figure(figsize=(10, sample_images * 2))  # Adjust figure size\n",
    "\n",
    "for i in range(sample_images):  \n",
    "    try:\n",
    "        # Load the original image\n",
    "        img_path = os.path.join(cur_path, \"train\", str(i), os.listdir(os.path.join(cur_path, \"train\", str(i)))[0])\n",
    "        original_img = Image.open(img_path)\n",
    "\n",
    "        # Resize the image\n",
    "        resized_img = original_img.resize((32, 32))\n",
    "\n",
    "        # Convert images to arrays for displaying\n",
    "        original_array = np.array(original_img)\n",
    "        resized_array = np.array(resized_img)\n",
    "\n",
    "        # Plot Original Image\n",
    "        plt.subplot(sample_images, 2, 2 * i + 1)\n",
    "        plt.imshow(original_array)\n",
    "        plt.title(f\"Original - Class {i}\")\n",
    "        plt.axis(\"off\")\n",
    "\n",
    "        # Plot Resized Image\n",
    "        plt.subplot(sample_images, 2, 2 * i + 2)\n",
    "        plt.imshow(resized_array)\n",
    "        plt.title(f\"Resized (32x32) - Class {i}\")\n",
    "        plt.axis(\"off\")\n",
    "\n",
    "    except Exception as e:\n",
    "        print(f\"Error loading image for class {i}: {e}\")\n",
    "\n",
    "# Save the entire figure as a single image\n",
    "plt.tight_layout()\n",
    "plt.savefig(\"comparison_all.png\", dpi=300)  # Save as high-resolution PNG\n",
    "plt.show()  # Display the figure\n"
   ]
  },
  {
   "cell_type": "code",
   "execution_count": 47,
   "id": "e1b95794-cf5e-4b69-bd7a-fef4afe327d5",
   "metadata": {},
   "outputs": [
    {
     "data": {
      "image/png": "[encoded data removed]",
      "text/plain": [
       "<Figure size 1200x500 with 2 Axes>"
      ]
     },
     "metadata": {},
     "output_type": "display_data"
    }
   ],
   "source": [
    "# Accuracy and Loss Graphs\n",
    "plt.figure(figsize=(12, 5))\n",
    "\n",
    "plt.subplot(1, 2, 1)\n",
    "plt.plot(history.history['accuracy'], label='Training Accuracy')\n",
    "plt.plot(history.history['val_accuracy'], label='Validation Accuracy')\n",
    "plt.xlabel('Epochs')\n",
    "plt.ylabel('Accuracy')\n",
    "plt.legend()\n",
    "plt.title('Model Accuracy')\n",
    "\n",
    "plt.subplot(1, 2, 2)\n",
    "plt.plot(history.history['loss'], label='Training Loss')\n",
    "plt.plot(history.history['val_loss'], label='Validation Loss')\n",
    "plt.xlabel('Epochs')\n",
    "plt.ylabel('Loss')\n",
    "plt.legend()\n",
    "plt.title('Model Loss')\n",
    "\n",
    "plt.show()\n"
   ]
  },
  {
   "cell_type": "code",
   "execution_count": 46,
   "id": "ecbf5aba-a8c2-4f9f-9609-54154c147879",
   "metadata": {},
   "outputs": [
    {
     "ename": "NameError",
     "evalue": "name 'pred' is not defined",
     "output_type": "error",
     "traceback": [
      "\u001b[1;31m---------------------------------------------------------------------------\u001b[0m",
      "\u001b[1;31mNameError\u001b[0m                                 Traceback (most recent call last)",
      "Cell \u001b[1;32mIn[46], line 6\u001b[0m\n\u001b[0;32m      3\u001b[0m \u001b[38;5;28;01mimport\u001b[39;00m \u001b[38;5;21;01mmatplotlib\u001b[39;00m\u001b[38;5;21;01m.\u001b[39;00m\u001b[38;5;21;01mpyplot\u001b[39;00m \u001b[38;5;28;01mas\u001b[39;00m \u001b[38;5;21;01mplt\u001b[39;00m\n\u001b[0;32m      5\u001b[0m \u001b[38;5;66;03m# Compute confusion matrix\u001b[39;00m\n\u001b[1;32m----> 6\u001b[0m cm \u001b[38;5;241m=\u001b[39m confusion_matrix(labels, pred)\n\u001b[0;32m      8\u001b[0m \u001b[38;5;66;03m# Plot confusion matrix\u001b[39;00m\n\u001b[0;32m      9\u001b[0m plt\u001b[38;5;241m.\u001b[39mfigure(figsize\u001b[38;5;241m=\u001b[39m(\u001b[38;5;241m10\u001b[39m, \u001b[38;5;241m7\u001b[39m))\n",
      "\u001b[1;31mNameError\u001b[0m: name 'pred' is not defined"
     ]
    }
   ],
   "source": [
    "\n"
   ]
  },
  {
   "cell_type": "code",
   "execution_count": 38,
   "id": "6376a5cd-5719-4eb8-b2a2-080f5bf53291",
   "metadata": {},
   "outputs": [
    {
     "name": "stdout",
     "output_type": "stream",
     "text": [
      "\u001b[1m395/395\u001b[0m \u001b[32m━━━━━━━━━━━━━━━━━━━━\u001b[0m\u001b[37m\u001b[0m \u001b[1m11s\u001b[0m 27ms/step\n"
     ]
    }
   ],
   "source": [
    "predictions = model.predict(X_test)\n",
    "\n",
    "# Convert probabilities to class labels\n",
    "pred = np.argmax(predictions, axis=1)"
   ]
  },
  {
   "cell_type": "code",
   "execution_count": 49,
   "id": "d3c6c433-700f-47d2-b361-55ccb9630773",
   "metadata": {},
   "outputs": [
    {
     "data": {
      "text/plain": [
       "array([[0.0000000e+00, 1.3201944e-37, 0.0000000e+00, ..., 0.0000000e+00,\n",
       "        0.0000000e+00, 0.0000000e+00],\n",
       "       [1.4966744e-07, 5.3818407e-03, 5.6844570e-02, ..., 1.9662347e-07,\n",
       "        6.2116715e-11, 2.7190636e-13],\n",
       "       [1.2095065e-11, 5.3603532e-07, 1.5639303e-05, ..., 6.3376276e-11,\n",
       "        7.2705791e-14, 2.4838439e-15],\n",
       "       ...,\n",
       "       [0.0000000e+00, 0.0000000e+00, 0.0000000e+00, ..., 0.0000000e+00,\n",
       "        0.0000000e+00, 0.0000000e+00],\n",
       "       [4.3535985e-26, 5.1065887e-22, 3.5602785e-33, ..., 5.1767048e-38,\n",
       "        0.0000000e+00, 0.0000000e+00],\n",
       "       [0.0000000e+00, 0.0000000e+00, 0.0000000e+00, ..., 0.0000000e+00,\n",
       "        7.4029313e-32, 0.0000000e+00]], dtype=float32)"
      ]
     },
     "execution_count": 49,
     "metadata": {},
     "output_type": "execute_result"
    }
   ],
   "source": [
    "predictions"
   ]
  },
  {
   "cell_type": "code",
   "execution_count": 25,
   "id": "2df34d76-ac56-4943-b824-ae9b9e703cb1",
   "metadata": {},
   "outputs": [
    {
     "data": {
      "text/plain": [
       "array([16,  1, 38, ...,  5,  7, 10], dtype=int64)"
      ]
     },
     "execution_count": 25,
     "metadata": {},
     "output_type": "execute_result"
    }
   ],
   "source": [
    "pred"
   ]
  },
  {
   "cell_type": "code",
   "execution_count": null,
   "id": "6792fc79-89a4-4a06-abf4-1702ea18cf59",
   "metadata": {},
   "outputs": [],
   "source": []
  },
  {
   "cell_type": "code",
   "execution_count": 37,
   "id": "68c67a56-ea5a-4357-a04c-e1f0c4b8dde2",
   "metadata": {},
   "outputs": [
    {
     "name": "stdout",
     "output_type": "stream",
     "text": [
      "X_test shape: (12630, 30, 30, 3)\n",
      "y_true shape: (12630,)\n"
     ]
    }
   ],
   "source": [
    "# Load the test dataset from Test.csv\n",
    "import pandas as pd\n",
    "test_data = pd.read_csv('Test.csv')\n",
    "\n",
    "# Ensure you are only using the correct number of test samples\n",
    "y_true = test_data[\"ClassId\"].values  # True labels (should match test set size)\n",
    "imgs = test_data[\"Path\"].values       # Image paths\n",
    "\n",
    "# Load and preprocess the test images\n",
    "X_test = []\n",
    "for img in imgs:\n",
    "    image = Image.open(img)\n",
    "    image = image.resize((30, 30))  # Resize to match training input size\n",
    "    X_test.append(np.array(image))\n",
    "\n",
    "X_test = np.array(X_test)  # Convert list to numpy array\n",
    "\n",
    "# Ensure correct shape\n",
    "print(f\"X_test shape: {X_test.shape}\")\n",
    "print(f\"y_true shape: {y_true.shape}\")\n"
   ]
  },
  {
   "cell_type": "code",
   "execution_count": null,
   "id": "988bdadd-89c7-49d8-87d3-c6a6d29460c4",
   "metadata": {},
   "outputs": [],
   "source": []
  },
  {
   "cell_type": "code",
   "execution_count": null,
   "id": "ef9fdacc-a6cc-4ab3-ab6d-26a350f69165",
   "metadata": {},
   "outputs": [],
   "source": [
    "pred.shape"
   ]
  },
  {
   "cell_type": "code",
   "execution_count": 58,
   "id": "716e91ea-6bb1-45fb-aa3d-f2a0db3a3176",
   "metadata": {},
   "outputs": [
    {
     "name": "stdout",
     "output_type": "stream",
     "text": [
      "<class 'pandas.core.frame.DataFrame'>\n"
     ]
    }
   ],
   "source": [
    "import pandas as pd\n",
    "\n",
    "print(type(y_test))  # If it's a list or other type\n"
   ]
  },
  {
   "cell_type": "code",
   "execution_count": null,
   "id": "8c8aa6ef-3b59-49a8-a87e-746acc739c46",
   "metadata": {},
   "outputs": [],
   "source": []
  },
  {
   "cell_type": "code",
   "execution_count": 52,
   "id": "4f47a620-f643-4fc1-84b5-f2c406dd2969",
   "metadata": {},
   "outputs": [
    {
     "data": {
      "text/plain": [
       "(12630, 8)"
      ]
     },
     "execution_count": 52,
     "metadata": {},
     "output_type": "execute_result"
    }
   ],
   "source": [
    "y_test.shape"
   ]
  },
  {
   "cell_type": "code",
   "execution_count": 48,
   "id": "932c4c33-d85c-404b-b659-3fdf913378d3",
   "metadata": {},
   "outputs": [
    {
     "ename": "TypeError",
     "evalue": "'>' not supported between instances of 'str' and 'int'",
     "output_type": "error",
     "traceback": [
      "\u001b[1;31m---------------------------------------------------------------------------\u001b[0m",
      "\u001b[1;31mTypeError\u001b[0m                                 Traceback (most recent call last)",
      "Cell \u001b[1;32mIn[48], line 3\u001b[0m\n\u001b[0;32m      1\u001b[0m \u001b[38;5;28;01mimport\u001b[39;00m \u001b[38;5;21;01mnumpy\u001b[39;00m \u001b[38;5;28;01mas\u001b[39;00m \u001b[38;5;21;01mnp\u001b[39;00m\n\u001b[0;32m      2\u001b[0m \u001b[38;5;28;01mif\u001b[39;00m \u001b[38;5;28mlen\u001b[39m(y_test\u001b[38;5;241m.\u001b[39mshape) \u001b[38;5;241m>\u001b[39m \u001b[38;5;241m1\u001b[39m:\n\u001b[1;32m----> 3\u001b[0m     y_test \u001b[38;5;241m=\u001b[39m np\u001b[38;5;241m.\u001b[39margmax(y_test, axis\u001b[38;5;241m=\u001b[39m\u001b[38;5;241m1\u001b[39m)\n",
      "File \u001b[1;32m~\\anaconda3\\Lib\\site-packages\\numpy\\core\\fromnumeric.py:1229\u001b[0m, in \u001b[0;36margmax\u001b[1;34m(a, axis, out, keepdims)\u001b[0m\n\u001b[0;32m   1142\u001b[0m \u001b[38;5;250m\u001b[39m\u001b[38;5;124;03m\"\"\"\u001b[39;00m\n\u001b[0;32m   1143\u001b[0m \u001b[38;5;124;03mReturns the indices of the maximum values along an axis.\u001b[39;00m\n\u001b[0;32m   1144\u001b[0m \n\u001b[1;32m   (...)\u001b[0m\n\u001b[0;32m   1226\u001b[0m \u001b[38;5;124;03m(2, 1, 4)\u001b[39;00m\n\u001b[0;32m   1227\u001b[0m \u001b[38;5;124;03m\"\"\"\u001b[39;00m\n\u001b[0;32m   1228\u001b[0m kwds \u001b[38;5;241m=\u001b[39m {\u001b[38;5;124m'\u001b[39m\u001b[38;5;124mkeepdims\u001b[39m\u001b[38;5;124m'\u001b[39m: keepdims} \u001b[38;5;28;01mif\u001b[39;00m keepdims \u001b[38;5;129;01mis\u001b[39;00m \u001b[38;5;129;01mnot\u001b[39;00m np\u001b[38;5;241m.\u001b[39m_NoValue \u001b[38;5;28;01melse\u001b[39;00m {}\n\u001b[1;32m-> 1229\u001b[0m \u001b[38;5;28;01mreturn\u001b[39;00m _wrapfunc(a, \u001b[38;5;124m'\u001b[39m\u001b[38;5;124margmax\u001b[39m\u001b[38;5;124m'\u001b[39m, axis\u001b[38;5;241m=\u001b[39maxis, out\u001b[38;5;241m=\u001b[39mout, \u001b[38;5;241m*\u001b[39m\u001b[38;5;241m*\u001b[39mkwds)\n",
      "File \u001b[1;32m~\\anaconda3\\Lib\\site-packages\\numpy\\core\\fromnumeric.py:56\u001b[0m, in \u001b[0;36m_wrapfunc\u001b[1;34m(obj, method, *args, **kwds)\u001b[0m\n\u001b[0;32m     54\u001b[0m bound \u001b[38;5;241m=\u001b[39m \u001b[38;5;28mgetattr\u001b[39m(obj, method, \u001b[38;5;28;01mNone\u001b[39;00m)\n\u001b[0;32m     55\u001b[0m \u001b[38;5;28;01mif\u001b[39;00m bound \u001b[38;5;129;01mis\u001b[39;00m \u001b[38;5;28;01mNone\u001b[39;00m:\n\u001b[1;32m---> 56\u001b[0m     \u001b[38;5;28;01mreturn\u001b[39;00m _wrapit(obj, method, \u001b[38;5;241m*\u001b[39margs, \u001b[38;5;241m*\u001b[39m\u001b[38;5;241m*\u001b[39mkwds)\n\u001b[0;32m     58\u001b[0m \u001b[38;5;28;01mtry\u001b[39;00m:\n\u001b[0;32m     59\u001b[0m     \u001b[38;5;28;01mreturn\u001b[39;00m bound(\u001b[38;5;241m*\u001b[39margs, \u001b[38;5;241m*\u001b[39m\u001b[38;5;241m*\u001b[39mkwds)\n",
      "File \u001b[1;32m~\\anaconda3\\Lib\\site-packages\\numpy\\core\\fromnumeric.py:45\u001b[0m, in \u001b[0;36m_wrapit\u001b[1;34m(obj, method, *args, **kwds)\u001b[0m\n\u001b[0;32m     43\u001b[0m \u001b[38;5;28;01mexcept\u001b[39;00m \u001b[38;5;167;01mAttributeError\u001b[39;00m:\n\u001b[0;32m     44\u001b[0m     wrap \u001b[38;5;241m=\u001b[39m \u001b[38;5;28;01mNone\u001b[39;00m\n\u001b[1;32m---> 45\u001b[0m result \u001b[38;5;241m=\u001b[39m \u001b[38;5;28mgetattr\u001b[39m(asarray(obj), method)(\u001b[38;5;241m*\u001b[39margs, \u001b[38;5;241m*\u001b[39m\u001b[38;5;241m*\u001b[39mkwds)\n\u001b[0;32m     46\u001b[0m \u001b[38;5;28;01mif\u001b[39;00m wrap:\n\u001b[0;32m     47\u001b[0m     \u001b[38;5;28;01mif\u001b[39;00m \u001b[38;5;129;01mnot\u001b[39;00m \u001b[38;5;28misinstance\u001b[39m(result, mu\u001b[38;5;241m.\u001b[39mndarray):\n",
      "\u001b[1;31mTypeError\u001b[0m: '>' not supported between instances of 'str' and 'int'"
     ]
    }
   ],
   "source": [
    "import numpy as np\n",
    "if len(y_test.shape) > 1:\n",
    "    y_test = np.argmax(y_test, axis=1)"
   ]
  },
  {
   "cell_type": "code",
   "execution_count": 41,
   "id": "7cd1fd0b-6f3f-4a70-bc5e-8c9eb96a472e",
   "metadata": {},
   "outputs": [
    {
     "data": {
      "text/html": [
       "<div>\n",
       "<style scoped>\n",
       "    .dataframe tbody tr th:only-of-type {\n",
       "        vertical-align: middle;\n",
       "    }\n",
       "\n",
       "    .dataframe tbody tr th {\n",
       "        vertical-align: top;\n",
       "    }\n",
       "\n",
       "    .dataframe thead th {\n",
       "        text-align: right;\n",
       "    }\n",
       "</style>\n",
       "<table border=\"1\" class=\"dataframe\">\n",
       "  <thead>\n",
       "    <tr style=\"text-align: right;\">\n",
       "      <th></th>\n",
       "      <th>Width</th>\n",
       "      <th>Height</th>\n",
       "      <th>Roi.X1</th>\n",
       "      <th>Roi.Y1</th>\n",
       "      <th>Roi.X2</th>\n",
       "      <th>Roi.Y2</th>\n",
       "      <th>ClassId</th>\n",
       "      <th>Path</th>\n",
       "    </tr>\n",
       "  </thead>\n",
       "  <tbody>\n",
       "    <tr>\n",
       "      <th>0</th>\n",
       "      <td>53</td>\n",
       "      <td>54</td>\n",
       "      <td>6</td>\n",
       "      <td>5</td>\n",
       "      <td>48</td>\n",
       "      <td>49</td>\n",
       "      <td>16</td>\n",
       "      <td>Test/00000.png</td>\n",
       "    </tr>\n",
       "    <tr>\n",
       "      <th>1</th>\n",
       "      <td>42</td>\n",
       "      <td>45</td>\n",
       "      <td>5</td>\n",
       "      <td>5</td>\n",
       "      <td>36</td>\n",
       "      <td>40</td>\n",
       "      <td>1</td>\n",
       "      <td>Test/00001.png</td>\n",
       "    </tr>\n",
       "    <tr>\n",
       "      <th>2</th>\n",
       "      <td>48</td>\n",
       "      <td>52</td>\n",
       "      <td>6</td>\n",
       "      <td>6</td>\n",
       "      <td>43</td>\n",
       "      <td>47</td>\n",
       "      <td>38</td>\n",
       "      <td>Test/00002.png</td>\n",
       "    </tr>\n",
       "    <tr>\n",
       "      <th>3</th>\n",
       "      <td>27</td>\n",
       "      <td>29</td>\n",
       "      <td>5</td>\n",
       "      <td>5</td>\n",
       "      <td>22</td>\n",
       "      <td>24</td>\n",
       "      <td>33</td>\n",
       "      <td>Test/00003.png</td>\n",
       "    </tr>\n",
       "    <tr>\n",
       "      <th>4</th>\n",
       "      <td>60</td>\n",
       "      <td>57</td>\n",
       "      <td>5</td>\n",
       "      <td>5</td>\n",
       "      <td>55</td>\n",
       "      <td>52</td>\n",
       "      <td>11</td>\n",
       "      <td>Test/00004.png</td>\n",
       "    </tr>\n",
       "    <tr>\n",
       "      <th>...</th>\n",
       "      <td>...</td>\n",
       "      <td>...</td>\n",
       "      <td>...</td>\n",
       "      <td>...</td>\n",
       "      <td>...</td>\n",
       "      <td>...</td>\n",
       "      <td>...</td>\n",
       "      <td>...</td>\n",
       "    </tr>\n",
       "    <tr>\n",
       "      <th>12625</th>\n",
       "      <td>42</td>\n",
       "      <td>41</td>\n",
       "      <td>5</td>\n",
       "      <td>6</td>\n",
       "      <td>37</td>\n",
       "      <td>36</td>\n",
       "      <td>12</td>\n",
       "      <td>Test/12625.png</td>\n",
       "    </tr>\n",
       "    <tr>\n",
       "      <th>12626</th>\n",
       "      <td>50</td>\n",
       "      <td>51</td>\n",
       "      <td>6</td>\n",
       "      <td>5</td>\n",
       "      <td>45</td>\n",
       "      <td>46</td>\n",
       "      <td>33</td>\n",
       "      <td>Test/12626.png</td>\n",
       "    </tr>\n",
       "    <tr>\n",
       "      <th>12627</th>\n",
       "      <td>29</td>\n",
       "      <td>29</td>\n",
       "      <td>6</td>\n",
       "      <td>6</td>\n",
       "      <td>24</td>\n",
       "      <td>24</td>\n",
       "      <td>6</td>\n",
       "      <td>Test/12627.png</td>\n",
       "    </tr>\n",
       "    <tr>\n",
       "      <th>12628</th>\n",
       "      <td>48</td>\n",
       "      <td>49</td>\n",
       "      <td>5</td>\n",
       "      <td>6</td>\n",
       "      <td>43</td>\n",
       "      <td>44</td>\n",
       "      <td>7</td>\n",
       "      <td>Test/12628.png</td>\n",
       "    </tr>\n",
       "    <tr>\n",
       "      <th>12629</th>\n",
       "      <td>32</td>\n",
       "      <td>31</td>\n",
       "      <td>6</td>\n",
       "      <td>5</td>\n",
       "      <td>27</td>\n",
       "      <td>26</td>\n",
       "      <td>10</td>\n",
       "      <td>Test/12629.png</td>\n",
       "    </tr>\n",
       "  </tbody>\n",
       "</table>\n",
       "<p>12630 rows × 8 columns</p>\n",
       "</div>"
      ],
      "text/plain": [
       "       Width  Height  Roi.X1  Roi.Y1  Roi.X2  Roi.Y2  ClassId            Path\n",
       "0         53      54       6       5      48      49       16  Test/00000.png\n",
       "1         42      45       5       5      36      40        1  Test/00001.png\n",
       "2         48      52       6       6      43      47       38  Test/00002.png\n",
       "3         27      29       5       5      22      24       33  Test/00003.png\n",
       "4         60      57       5       5      55      52       11  Test/00004.png\n",
       "...      ...     ...     ...     ...     ...     ...      ...             ...\n",
       "12625     42      41       5       6      37      36       12  Test/12625.png\n",
       "12626     50      51       6       5      45      46       33  Test/12626.png\n",
       "12627     29      29       6       6      24      24        6  Test/12627.png\n",
       "12628     48      49       5       6      43      44        7  Test/12628.png\n",
       "12629     32      31       6       5      27      26       10  Test/12629.png\n",
       "\n",
       "[12630 rows x 8 columns]"
      ]
     },
     "execution_count": 41,
     "metadata": {},
     "output_type": "execute_result"
    }
   ],
   "source": [
    "y_test"
   ]
  },
  {
   "cell_type": "code",
   "execution_count": 42,
   "id": "2e703d2b-bb2d-48c2-aa20-eaa5569d0b3e",
   "metadata": {},
   "outputs": [],
   "source": [
    "if len(pred.shape) > 1:\n",
    "    pred = np.argmax(pred, axis=1)"
   ]
  },
  {
   "cell_type": "raw",
   "id": "297082f5-921e-4d09-9498-0fc654538f64",
   "metadata": {},
   "source": [
    "print(len(y_test.shape))"
   ]
  },
  {
   "cell_type": "code",
   "execution_count": 43,
   "id": "850bf4fc-2278-418a-9540-558c4c97fa9d",
   "metadata": {},
   "outputs": [
    {
     "ename": "TypeError",
     "evalue": "'>' not supported between instances of 'str' and 'int'",
     "output_type": "error",
     "traceback": [
      "\u001b[1;31m---------------------------------------------------------------------------\u001b[0m",
      "\u001b[1;31mTypeError\u001b[0m                                 Traceback (most recent call last)",
      "Cell \u001b[1;32mIn[43], line 8\u001b[0m\n\u001b[0;32m      6\u001b[0m \u001b[38;5;66;03m# Convert to class indices if needed\u001b[39;00m\n\u001b[0;32m      7\u001b[0m \u001b[38;5;28;01mif\u001b[39;00m y_test\u001b[38;5;241m.\u001b[39mndim \u001b[38;5;241m>\u001b[39m \u001b[38;5;241m1\u001b[39m:\n\u001b[1;32m----> 8\u001b[0m     y_test \u001b[38;5;241m=\u001b[39m np\u001b[38;5;241m.\u001b[39margmax(y_test, axis\u001b[38;5;241m=\u001b[39m\u001b[38;5;241m1\u001b[39m)\n\u001b[0;32m      9\u001b[0m \u001b[38;5;28;01mif\u001b[39;00m pred\u001b[38;5;241m.\u001b[39mndim \u001b[38;5;241m>\u001b[39m \u001b[38;5;241m1\u001b[39m:\n\u001b[0;32m     10\u001b[0m     pred \u001b[38;5;241m=\u001b[39m np\u001b[38;5;241m.\u001b[39margmax(pred, axis\u001b[38;5;241m=\u001b[39m\u001b[38;5;241m1\u001b[39m)\n",
      "File \u001b[1;32m~\\anaconda3\\Lib\\site-packages\\numpy\\core\\fromnumeric.py:1229\u001b[0m, in \u001b[0;36margmax\u001b[1;34m(a, axis, out, keepdims)\u001b[0m\n\u001b[0;32m   1142\u001b[0m \u001b[38;5;250m\u001b[39m\u001b[38;5;124;03m\"\"\"\u001b[39;00m\n\u001b[0;32m   1143\u001b[0m \u001b[38;5;124;03mReturns the indices of the maximum values along an axis.\u001b[39;00m\n\u001b[0;32m   1144\u001b[0m \n\u001b[1;32m   (...)\u001b[0m\n\u001b[0;32m   1226\u001b[0m \u001b[38;5;124;03m(2, 1, 4)\u001b[39;00m\n\u001b[0;32m   1227\u001b[0m \u001b[38;5;124;03m\"\"\"\u001b[39;00m\n\u001b[0;32m   1228\u001b[0m kwds \u001b[38;5;241m=\u001b[39m {\u001b[38;5;124m'\u001b[39m\u001b[38;5;124mkeepdims\u001b[39m\u001b[38;5;124m'\u001b[39m: keepdims} \u001b[38;5;28;01mif\u001b[39;00m keepdims \u001b[38;5;129;01mis\u001b[39;00m \u001b[38;5;129;01mnot\u001b[39;00m np\u001b[38;5;241m.\u001b[39m_NoValue \u001b[38;5;28;01melse\u001b[39;00m {}\n\u001b[1;32m-> 1229\u001b[0m \u001b[38;5;28;01mreturn\u001b[39;00m _wrapfunc(a, \u001b[38;5;124m'\u001b[39m\u001b[38;5;124margmax\u001b[39m\u001b[38;5;124m'\u001b[39m, axis\u001b[38;5;241m=\u001b[39maxis, out\u001b[38;5;241m=\u001b[39mout, \u001b[38;5;241m*\u001b[39m\u001b[38;5;241m*\u001b[39mkwds)\n",
      "File \u001b[1;32m~\\anaconda3\\Lib\\site-packages\\numpy\\core\\fromnumeric.py:56\u001b[0m, in \u001b[0;36m_wrapfunc\u001b[1;34m(obj, method, *args, **kwds)\u001b[0m\n\u001b[0;32m     54\u001b[0m bound \u001b[38;5;241m=\u001b[39m \u001b[38;5;28mgetattr\u001b[39m(obj, method, \u001b[38;5;28;01mNone\u001b[39;00m)\n\u001b[0;32m     55\u001b[0m \u001b[38;5;28;01mif\u001b[39;00m bound \u001b[38;5;129;01mis\u001b[39;00m \u001b[38;5;28;01mNone\u001b[39;00m:\n\u001b[1;32m---> 56\u001b[0m     \u001b[38;5;28;01mreturn\u001b[39;00m _wrapit(obj, method, \u001b[38;5;241m*\u001b[39margs, \u001b[38;5;241m*\u001b[39m\u001b[38;5;241m*\u001b[39mkwds)\n\u001b[0;32m     58\u001b[0m \u001b[38;5;28;01mtry\u001b[39;00m:\n\u001b[0;32m     59\u001b[0m     \u001b[38;5;28;01mreturn\u001b[39;00m bound(\u001b[38;5;241m*\u001b[39margs, \u001b[38;5;241m*\u001b[39m\u001b[38;5;241m*\u001b[39mkwds)\n",
      "File \u001b[1;32m~\\anaconda3\\Lib\\site-packages\\numpy\\core\\fromnumeric.py:45\u001b[0m, in \u001b[0;36m_wrapit\u001b[1;34m(obj, method, *args, **kwds)\u001b[0m\n\u001b[0;32m     43\u001b[0m \u001b[38;5;28;01mexcept\u001b[39;00m \u001b[38;5;167;01mAttributeError\u001b[39;00m:\n\u001b[0;32m     44\u001b[0m     wrap \u001b[38;5;241m=\u001b[39m \u001b[38;5;28;01mNone\u001b[39;00m\n\u001b[1;32m---> 45\u001b[0m result \u001b[38;5;241m=\u001b[39m \u001b[38;5;28mgetattr\u001b[39m(asarray(obj), method)(\u001b[38;5;241m*\u001b[39margs, \u001b[38;5;241m*\u001b[39m\u001b[38;5;241m*\u001b[39mkwds)\n\u001b[0;32m     46\u001b[0m \u001b[38;5;28;01mif\u001b[39;00m wrap:\n\u001b[0;32m     47\u001b[0m     \u001b[38;5;28;01mif\u001b[39;00m \u001b[38;5;129;01mnot\u001b[39;00m \u001b[38;5;28misinstance\u001b[39m(result, mu\u001b[38;5;241m.\u001b[39mndarray):\n",
      "\u001b[1;31mTypeError\u001b[0m: '>' not supported between instances of 'str' and 'int'"
     ]
    }
   ],
   "source": [
    "import seaborn as sns\n",
    "import matplotlib.pyplot as plt\n",
    "import numpy as np\n",
    "from sklearn.metrics import confusion_matrix\n",
    "\n",
    "# Convert to class indices if needed\n",
    "if y_test.ndim > 1:\n",
    "    y_test = np.argmax(y_test, axis=1)\n",
    "if pred.ndim > 1:\n",
    "    pred = np.argmax(pred, axis=1)\n",
    "\n",
    "# Compute confusion matrix\n",
    "cm = confusion_matrix(y_test, pred)\n",
    "\n",
    "# Class names\n",
    "class_names = ['Speed limit (20km/h)','Speed limit (30km/h)','Speed limit (50km/h)','Speed limit (60km/h)','Speed limit (70km/h)'\n",
    ",'Speed limit (80km/h)'\n",
    ",'End of speed limit (80km/h)'\n",
    ",'Speed limit (100km/h)'\n",
    ",'Speed limit (120km/h)'\n",
    ",'No passing'\n",
    ",'No passing veh over 3.5 tons'\n",
    ",'Right-of-way at intersection'\n",
    ",'Priority road'\n",
    ",'Yield'\n",
    ",'Stop'\n",
    ",'No vehicles'\n",
    ",'Veh > 3.5 tons prohibited'\n",
    ",'No entry'\n",
    ",'General caution'\n",
    ",'Dangerous curve left'\n",
    ",'Dangerous curve right'\n",
    ",'Double curve'\n",
    ",'Bumpy road'\n",
    ",'Slippery road'\n",
    ",'Road narrows on the right'\n",
    ",'Road work'\n",
    ",'Traffic signals'\n",
    ",'Pedestrians'\n",
    ",'Children crossing'\n",
    ",'Bicycles crossing'\n",
    ",'Beware of ice/snow'\n",
    ",'Wild animals crossing'\n",
    ",'End speed + passing limits'\n",
    ",'Turn right ahead'\n",
    ",'Turn left ahead'\n",
    ",'Ahead only'\n",
    ",'Go straight or right'\n",
    ",'Go straight or left'\n",
    ",'Keep right'\n",
    ",'Keep left'\n",
    ",'Roundabout mandatory'\n",
    ",'End of no passing'\n",
    ",'End no passing veh > 3.5 tons']\n",
    "\n",
    "# Plot heatmap\n",
    "plt.figure(figsize=(16,10))  # Adjust size based on the number of classes\n",
    "sns.heatmap(cm, \n",
    "            annot=True, \n",
    "            fmt='d', \n",
    "            cmap='Blues', \n",
    "            xticklabels=class_names,  # Set xticks to class names\n",
    "            yticklabels=class_names,  # Set yticks to class names\n",
    "            cbar=True,               # Show color bar\n",
    "            annot_kws={'size': 10},   # Adjust annotation size for better readability\n",
    "            linewidths=0.5,           # Add spacing between cells\n",
    "            linecolor='white'        # Line color between cells\n",
    "           )\n",
    "\n",
    "# Rotate labels for better visibility\n",
    "plt.xticks(rotation=90, ha='center', fontsize=10)  # Rotate x-axis labels\n",
    "plt.yticks(rotation=0, ha='right', fontsize=10)   # Rotate y-axis labels\n",
    "\n",
    "# Add labels and title\n",
    "plt.xlabel('Predicted Label')\n",
    "plt.ylabel('True Label')\n",
    "plt.title('Confusion Matrix Heatmap')\n",
    "\n",
    "# Add some padding\n",
    "plt.tight_layout()\n",
    "plt.savefig('heatmap.png', bbox_inches='tight')\n",
    "\n",
    "\n",
    "plt.show()\n"
   ]
  },
  {
   "cell_type": "code",
   "execution_count": 76,
   "id": "241751c2-3a19-4342-a25b-a1ada46d88b2",
   "metadata": {},
   "outputs": [
    {
     "data": {
      "text/plain": [
       "<Figure size 640x480 with 0 Axes>"
      ]
     },
     "metadata": {},
     "output_type": "display_data"
    }
   ],
   "source": [
    "plt.savefig('heatmap.png', bbox_inches='tight')  # Save the plot to a file\n"
   ]
  },
  {
   "cell_type": "code",
   "execution_count": 17,
   "id": "dccd6da2-f1b9-46b4-84a6-a33c52c770b2",
   "metadata": {},
   "outputs": [
    {
     "name": "stderr",
     "output_type": "stream",
     "text": [
      "WARNING:absl:Compiled the loaded model, but the compiled metrics have yet to be built. `model.compile_metrics` will be empty until you train or evaluate the model.\n"
     ]
    }
   ],
   "source": [
    "from tensorflow.keras.models import load_model\n",
    "\n",
    "# Load the saved model\n",
    "model = load_model('my_model.h5')\n"
   ]
  },
  {
   "cell_type": "code",
   "execution_count": 18,
   "id": "327cd675-d926-4589-ad54-bd23490dd0ec",
   "metadata": {},
   "outputs": [
    {
     "name": "stdout",
     "output_type": "stream",
     "text": [
      "\u001b[1m246/246\u001b[0m \u001b[32m━━━━━━━━━━━━━━━━━━━━\u001b[0m\u001b[37m\u001b[0m \u001b[1m8s\u001b[0m 29ms/step\n"
     ]
    }
   ],
   "source": [
    "y_pred = model.predict(X_test)\n",
    "\n",
    "# If it's a multi-class classification problem and the output is one-hot encoded, convert it to class indices\n",
    "if y_pred.ndim > 1:\n",
    "    y_pred = np.argmax(y_pred, axis=1)"
   ]
  },
  {
   "cell_type": "code",
   "execution_count": 74,
   "id": "8c1849a7-9994-491d-afa0-b166d5872e65",
   "metadata": {},
   "outputs": [],
   "source": [
    "from sklearn.metrics import accuracy_score, precision_score, recall_score, f1_score, classification_report\n",
    "precision = precision_score(labels, pred, average='weighted')\n",
    "recall = recall_score(labels, pred, average='weighted')\n",
    "f1 = f1_score(labels, pred, average='weighted')\n",
    "accuracy = accuracy_score(labels, pred)\n"
   ]
  },
  {
   "cell_type": "code",
   "execution_count": 75,
   "id": "a1ea8e51-1cfc-4c03-8521-628c64e6dd40",
   "metadata": {},
   "outputs": [
    {
     "name": "stdout",
     "output_type": "stream",
     "text": [
      "Precision: 0.9543\n",
      "Recall: 0.9534\n",
      "F1 Score: 0.9526\n",
      "Test accuracy: 0.9533650039588282\n",
      "\n",
      "Classification Report:\n",
      "              precision    recall  f1-score   support\n",
      "\n",
      "           0       1.00      1.00      1.00        60\n",
      "           1       0.98      0.96      0.97       720\n",
      "           2       0.93      0.98      0.95       750\n",
      "           3       0.96      0.91      0.93       450\n",
      "           4       0.97      0.96      0.97       660\n",
      "           5       0.85      0.96      0.90       630\n",
      "           6       1.00      0.87      0.93       150\n",
      "           7       0.92      0.95      0.93       450\n",
      "           8       0.98      0.98      0.98       450\n",
      "           9       0.95      1.00      0.97       480\n",
      "          10       0.99      0.98      0.98       660\n",
      "          11       0.98      0.96      0.97       420\n",
      "          12       0.97      0.97      0.97       690\n",
      "          13       0.98      1.00      0.99       720\n",
      "          14       0.97      1.00      0.98       270\n",
      "          15       0.91      0.99      0.95       210\n",
      "          16       0.99      1.00      1.00       150\n",
      "          17       1.00      0.96      0.98       360\n",
      "          18       0.93      0.84      0.88       390\n",
      "          19       0.95      1.00      0.98        60\n",
      "          20       0.85      0.97      0.91        90\n",
      "          21       0.96      0.71      0.82        90\n",
      "          22       0.99      0.81      0.89       120\n",
      "          23       0.97      0.93      0.95       150\n",
      "          24       0.91      0.94      0.93        90\n",
      "          25       0.98      0.98      0.98       480\n",
      "          26       0.83      0.97      0.89       180\n",
      "          27       0.67      0.43      0.53        60\n",
      "          28       1.00      0.99      0.99       150\n",
      "          29       0.83      0.98      0.90        90\n",
      "          30       0.92      0.91      0.91       150\n",
      "          31       0.93      0.99      0.96       270\n",
      "          32       0.91      0.82      0.86        60\n",
      "          33       0.99      0.99      0.99       210\n",
      "          34       0.94      0.98      0.96       120\n",
      "          35       0.98      0.98      0.98       390\n",
      "          36       0.95      0.98      0.97       120\n",
      "          37       0.93      0.93      0.93        60\n",
      "          38       0.99      0.97      0.98       690\n",
      "          39       1.00      0.96      0.98        90\n",
      "          40       0.77      0.61      0.68        90\n",
      "          41       1.00      0.65      0.79        60\n",
      "          42       0.97      0.81      0.88        90\n",
      "\n",
      "    accuracy                           0.95     12630\n",
      "   macro avg       0.94      0.92      0.93     12630\n",
      "weighted avg       0.95      0.95      0.95     12630\n",
      "\n"
     ]
    }
   ],
   "source": [
    "print(f\"Precision: {precision:.4f}\")\n",
    "print(f\"Recall: {recall:.4f}\")\n",
    "print(f\"F1 Score: {f1:.4f}\")\n",
    "print(f\"Test accuracy: {accuracy}\")\n",
    "\n",
    "# Display classification report\n",
    "print(\"\\nClassification Report:\")\n",
    "print(classification_report(labels, pred))"
   ]
  },
  {
   "cell_type": "code",
   "execution_count": 71,
   "id": "1cab424a-f8f6-4c36-9ada-4cfb60a1760b",
   "metadata": {},
   "outputs": [
    {
     "name": "stdout",
     "output_type": "stream",
     "text": [
      "\u001b[1m395/395\u001b[0m \u001b[32m━━━━━━━━━━━━━━━━━━━━\u001b[0m\u001b[37m\u001b[0m \u001b[1m12s\u001b[0m 30ms/step\n"
     ]
    },
    {
     "ename": "TypeError",
     "evalue": "'>' not supported between instances of 'str' and 'int'",
     "output_type": "error",
     "traceback": [
      "\u001b[1;31m---------------------------------------------------------------------------\u001b[0m",
      "\u001b[1;31mTypeError\u001b[0m                                 Traceback (most recent call last)",
      "Cell \u001b[1;32mIn[71], line 10\u001b[0m\n\u001b[0;32m      7\u001b[0m y_pred \u001b[38;5;241m=\u001b[39m np\u001b[38;5;241m.\u001b[39margmax(y_pred_probs, axis\u001b[38;5;241m=\u001b[39m\u001b[38;5;241m1\u001b[39m)\n\u001b[0;32m      9\u001b[0m \u001b[38;5;66;03m# Convert one-hot encoded y_test back to class labels\u001b[39;00m\n\u001b[1;32m---> 10\u001b[0m y_true \u001b[38;5;241m=\u001b[39m np\u001b[38;5;241m.\u001b[39margmax(y_test, axis\u001b[38;5;241m=\u001b[39m\u001b[38;5;241m1\u001b[39m)\n",
      "File \u001b[1;32m~\\anaconda3\\Lib\\site-packages\\numpy\\core\\fromnumeric.py:1229\u001b[0m, in \u001b[0;36margmax\u001b[1;34m(a, axis, out, keepdims)\u001b[0m\n\u001b[0;32m   1142\u001b[0m \u001b[38;5;250m\u001b[39m\u001b[38;5;124;03m\"\"\"\u001b[39;00m\n\u001b[0;32m   1143\u001b[0m \u001b[38;5;124;03mReturns the indices of the maximum values along an axis.\u001b[39;00m\n\u001b[0;32m   1144\u001b[0m \n\u001b[1;32m   (...)\u001b[0m\n\u001b[0;32m   1226\u001b[0m \u001b[38;5;124;03m(2, 1, 4)\u001b[39;00m\n\u001b[0;32m   1227\u001b[0m \u001b[38;5;124;03m\"\"\"\u001b[39;00m\n\u001b[0;32m   1228\u001b[0m kwds \u001b[38;5;241m=\u001b[39m {\u001b[38;5;124m'\u001b[39m\u001b[38;5;124mkeepdims\u001b[39m\u001b[38;5;124m'\u001b[39m: keepdims} \u001b[38;5;28;01mif\u001b[39;00m keepdims \u001b[38;5;129;01mis\u001b[39;00m \u001b[38;5;129;01mnot\u001b[39;00m np\u001b[38;5;241m.\u001b[39m_NoValue \u001b[38;5;28;01melse\u001b[39;00m {}\n\u001b[1;32m-> 1229\u001b[0m \u001b[38;5;28;01mreturn\u001b[39;00m _wrapfunc(a, \u001b[38;5;124m'\u001b[39m\u001b[38;5;124margmax\u001b[39m\u001b[38;5;124m'\u001b[39m, axis\u001b[38;5;241m=\u001b[39maxis, out\u001b[38;5;241m=\u001b[39mout, \u001b[38;5;241m*\u001b[39m\u001b[38;5;241m*\u001b[39mkwds)\n",
      "File \u001b[1;32m~\\anaconda3\\Lib\\site-packages\\numpy\\core\\fromnumeric.py:56\u001b[0m, in \u001b[0;36m_wrapfunc\u001b[1;34m(obj, method, *args, **kwds)\u001b[0m\n\u001b[0;32m     54\u001b[0m bound \u001b[38;5;241m=\u001b[39m \u001b[38;5;28mgetattr\u001b[39m(obj, method, \u001b[38;5;28;01mNone\u001b[39;00m)\n\u001b[0;32m     55\u001b[0m \u001b[38;5;28;01mif\u001b[39;00m bound \u001b[38;5;129;01mis\u001b[39;00m \u001b[38;5;28;01mNone\u001b[39;00m:\n\u001b[1;32m---> 56\u001b[0m     \u001b[38;5;28;01mreturn\u001b[39;00m _wrapit(obj, method, \u001b[38;5;241m*\u001b[39margs, \u001b[38;5;241m*\u001b[39m\u001b[38;5;241m*\u001b[39mkwds)\n\u001b[0;32m     58\u001b[0m \u001b[38;5;28;01mtry\u001b[39;00m:\n\u001b[0;32m     59\u001b[0m     \u001b[38;5;28;01mreturn\u001b[39;00m bound(\u001b[38;5;241m*\u001b[39margs, \u001b[38;5;241m*\u001b[39m\u001b[38;5;241m*\u001b[39mkwds)\n",
      "File \u001b[1;32m~\\anaconda3\\Lib\\site-packages\\numpy\\core\\fromnumeric.py:45\u001b[0m, in \u001b[0;36m_wrapit\u001b[1;34m(obj, method, *args, **kwds)\u001b[0m\n\u001b[0;32m     43\u001b[0m \u001b[38;5;28;01mexcept\u001b[39;00m \u001b[38;5;167;01mAttributeError\u001b[39;00m:\n\u001b[0;32m     44\u001b[0m     wrap \u001b[38;5;241m=\u001b[39m \u001b[38;5;28;01mNone\u001b[39;00m\n\u001b[1;32m---> 45\u001b[0m result \u001b[38;5;241m=\u001b[39m \u001b[38;5;28mgetattr\u001b[39m(asarray(obj), method)(\u001b[38;5;241m*\u001b[39margs, \u001b[38;5;241m*\u001b[39m\u001b[38;5;241m*\u001b[39mkwds)\n\u001b[0;32m     46\u001b[0m \u001b[38;5;28;01mif\u001b[39;00m wrap:\n\u001b[0;32m     47\u001b[0m     \u001b[38;5;28;01mif\u001b[39;00m \u001b[38;5;129;01mnot\u001b[39;00m \u001b[38;5;28misinstance\u001b[39m(result, mu\u001b[38;5;241m.\u001b[39mndarray):\n",
      "\u001b[1;31mTypeError\u001b[0m: '>' not supported between instances of 'str' and 'int'"
     ]
    }
   ],
   "source": [
    "from sklearn.metrics import precision_score, recall_score, f1_score\n",
    "\n",
    "# Get predicted probabilities\n",
    "y_pred_probs = model.predict(X_test)\n",
    "\n",
    "# Convert to class labels (taking the index of the highest probability)\n",
    "y_pred = np.argmax(y_pred_probs, axis=1)\n",
    "\n",
    "# Convert one-hot encoded y_test back to class labels\n",
    "y_true = np.argmax(y_test, axis=1)\n",
    "\n",
    " "
   ]
  },
  {
   "cell_type": "code",
   "execution_count": null,
   "id": "f482d1b0-7182-40f5-a9a7-a4dfcff1cb15",
   "metadata": {},
   "outputs": [],
   "source": []
  }
 ],
 "metadata": {
  "kernelspec": {
   "display_name": "Python 3 (ipykernel)",
   "language": "python",
   "name": "python3"
  },
  "language_info": {
   "codemirror_mode": {
    "name": "ipython",
    "version": 3
   },
   "file_extension": ".py",
   "mimetype": "text/x-python",
   "name": "python",
   "nbconvert_exporter": "python",
   "pygments_lexer": "ipython3",
   "version": "3.12.7"
  }
 },
 "nbformat": 4,
 "nbformat_minor": 5
}
